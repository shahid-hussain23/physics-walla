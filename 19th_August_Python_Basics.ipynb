{
 "cells": [
  {
   "cell_type": "code",
   "execution_count": 1,
   "id": "0239d90e",
   "metadata": {},
   "outputs": [],
   "source": [
    "'''#1. Declare two variables, `x` and `y`, and assign them integer values. Swap the\n",
    "values of these variables without using any temporary variable.'''\n",
    "x =  5"
   ]
  },
  {
   "cell_type": "code",
   "execution_count": 2,
   "id": "59bcb49e",
   "metadata": {},
   "outputs": [],
   "source": [
    "y = 10"
   ]
  },
  {
   "cell_type": "code",
   "execution_count": 3,
   "id": "112f3f22",
   "metadata": {},
   "outputs": [],
   "source": [
    "x = x + y"
   ]
  },
  {
   "cell_type": "code",
   "execution_count": 4,
   "id": "8af685fe",
   "metadata": {},
   "outputs": [],
   "source": [
    "y = x - y"
   ]
  },
  {
   "cell_type": "code",
   "execution_count": 5,
   "id": "ddb7b8d6",
   "metadata": {},
   "outputs": [],
   "source": [
    "x = x - y"
   ]
  },
  {
   "cell_type": "code",
   "execution_count": 6,
   "id": "d235d58d",
   "metadata": {},
   "outputs": [
    {
     "name": "stdout",
     "output_type": "stream",
     "text": [
      "5\n"
     ]
    }
   ],
   "source": [
    "print(y)"
   ]
  },
  {
   "cell_type": "code",
   "execution_count": 7,
   "id": "c8b7c605",
   "metadata": {},
   "outputs": [
    {
     "name": "stdout",
     "output_type": "stream",
     "text": [
      "10\n"
     ]
    }
   ],
   "source": [
    "print(x)"
   ]
  },
  {
   "cell_type": "code",
   "execution_count": 8,
   "id": "911663ad",
   "metadata": {},
   "outputs": [
    {
     "data": {
      "text/plain": [
       "'Create a program that calculates the area of a rectangle. Take the length and\\nwidth as inputs from the user and store them in variables. Calculate and\\ndisplay the area.'"
      ]
     },
     "execution_count": 8,
     "metadata": {},
     "output_type": "execute_result"
    }
   ],
   "source": [
    "'''Create a program that calculates the area of a rectangle. Take the length and\n",
    "width as inputs from the user and store them in variables. Calculate and\n",
    "display the area.'''"
   ]
  },
  {
   "cell_type": "code",
   "execution_count": 9,
   "id": "76277557",
   "metadata": {},
   "outputs": [
    {
     "name": "stdout",
     "output_type": "stream",
     "text": [
      "Enter the length of ractangle344\n"
     ]
    }
   ],
   "source": [
    "length = float(input(\"Enter the length of ractangle\"))"
   ]
  },
  {
   "cell_type": "code",
   "execution_count": 10,
   "id": "6b0a10a9",
   "metadata": {},
   "outputs": [
    {
     "name": "stdout",
     "output_type": "stream",
     "text": [
      "Enter the width of ractanle 545\n"
     ]
    }
   ],
   "source": [
    "width = float (input(\"Enter the width of ractanle \"))"
   ]
  },
  {
   "cell_type": "code",
   "execution_count": 11,
   "id": "0485b2a9",
   "metadata": {},
   "outputs": [],
   "source": [
    "area = length*width"
   ]
  },
  {
   "cell_type": "code",
   "execution_count": 12,
   "id": "8fcfe0e7",
   "metadata": {},
   "outputs": [
    {
     "name": "stdout",
     "output_type": "stream",
     "text": [
      "the area of ractangle is : 187480.0\n"
     ]
    }
   ],
   "source": [
    "print(\"the area of ractangle is :\", area)"
   ]
  },
  {
   "cell_type": "code",
   "execution_count": 13,
   "id": "3725e14f",
   "metadata": {},
   "outputs": [
    {
     "name": "stdout",
     "output_type": "stream",
     "text": [
      "Enter the degree in celsius: 45\n",
      "degree in farhrenheit is : 113.0\n"
     ]
    }
   ],
   "source": [
    "'''Write a Python program that converts temperatures from Celsius to\n",
    "Fahrenheit. Take the temperature in Celsius as input, store it in a variable,\n",
    "convert it to Fahrenheit, and display the result.'''\n",
    "celsius = int(input(\"Enter the degree in celsius: \"))\n",
    "fahrenheit = (1.8 * celsius) + 32\n",
    "print(\"degree in farhrenheit is :\", fahrenheit)"
   ]
  },
  {
   "cell_type": "code",
   "execution_count": 14,
   "id": "0690d31f",
   "metadata": {},
   "outputs": [
    {
     "name": "stdout",
     "output_type": "stream",
     "text": [
      "Please enter the string435\n",
      "the length of the string is : 3\n"
     ]
    }
   ],
   "source": [
    "'''Write a Python program that takes a string as input and prints the length of\n",
    "the string.'''\n",
    "user_input= input(\"Please enter the string\")\n",
    "string_length= len(user_input)\n",
    "print(f\"the length of the string is : {string_length}\")"
   ]
  },
  {
   "cell_type": "code",
   "execution_count": 20,
   "id": "915321f7",
   "metadata": {},
   "outputs": [
    {
     "name": "stdout",
     "output_type": "stream",
     "text": [
      "Enter a sentence:hgftfyu\n",
      "the number of vowels in this sentence are: 1\n"
     ]
    }
   ],
   "source": [
    "'''2. Create a program that takes a sentence from the user and counts the number\n",
    "of vowels (a, e, i, o, u) in the string.'''\n",
    "\n",
    "sentence = input(\"Enter a sentence:\")\n",
    "vowel_count=0\n",
    "\n",
    "for char in sentence:\n",
    "    if char.lower() in \"aeiou\":\n",
    "           vowel_count+=1\n",
    "\n",
    "print(\"the number of vowels in this sentence are:\", vowel_count)"
   ]
  },
  {
   "cell_type": "code",
   "execution_count": 23,
   "id": "06705c33",
   "metadata": {},
   "outputs": [
    {
     "name": "stdout",
     "output_type": "stream",
     "text": [
      "enter the string:level\n",
      "The string is palandrome\n"
     ]
    }
   ],
   "source": [
    "'''Write a program that takes a string as input and checks if it is a palindrome\n",
    "(reads the same forwards and backwards).'''\n",
    "\n",
    "input_string = input(\"enter the string:\")\n",
    "cleaned_string = input_string.replace(\"\",\"\").lower()\n",
    "\n",
    "if cleaned_string == cleaned_string[::-1]:\n",
    "    print(\"The string is palandrome\")\n",
    "else:\n",
    "    print(\"the string is not palandrome\")"
   ]
  },
  {
   "cell_type": "code",
   "execution_count": 1,
   "id": "553bfb97",
   "metadata": {},
   "outputs": [
    {
     "name": "stdout",
     "output_type": "stream",
     "text": [
      "Enter a sentence or phrase: My name is malik shahid\n",
      "Modified string without spaces: Mynameismalikshahid\n"
     ]
    }
   ],
   "source": [
    "'''Create a program that takes a string as input and removes all the spaces from\n",
    "it. Print the modified string without spaces.'''\n",
    "input_string = input(\"Enter a sentence or phrase: \")\n",
    "\n",
    "result_string = \"\"\n",
    "\n",
    "\n",
    "for char in input_string:\n",
    "    if char != ' ':\n",
    "        result_string += char\n",
    "\n",
    "print(\"Modified string without spaces:\", result_string)\n"
   ]
  },
  {
   "cell_type": "code",
   "execution_count": null,
   "id": "c9a8abf2",
   "metadata": {},
   "outputs": [],
   "source": []
  }
 ],
 "metadata": {
  "kernelspec": {
   "display_name": "Python 3 (ipykernel)",
   "language": "python",
   "name": "python3"
  },
  "language_info": {
   "codemirror_mode": {
    "name": "ipython",
    "version": 3
   },
   "file_extension": ".py",
   "mimetype": "text/x-python",
   "name": "python",
   "nbconvert_exporter": "python",
   "pygments_lexer": "ipython3",
   "version": "3.10.9"
  },
  "widgets": {
   "application/vnd.jupyter.widget-state+json": {
    "state": {},
    "version_major": 2,
    "version_minor": 0
   }
  }
 },
 "nbformat": 4,
 "nbformat_minor": 5
}
